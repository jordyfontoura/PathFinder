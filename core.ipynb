{
 "cells": [
  {
   "cell_type": "code",
   "execution_count": null,
   "metadata": {},
   "outputs": [],
   "source": [
    "if not 'IImported' in globals():\n",
    "    IImported = []\n",
    "    def IImport(file):\n",
    "        '''\n",
    "        Equivalente a %run file.ipynb\n",
    "        \"Importa\" arquivo ipynb\n",
    "        Parametros:\n",
    "        file str: nome do arquivo sem extensão (.ipynb)\n",
    "        '''\n",
    "        global IImported\n",
    "    #     if file in IImported:\n",
    "    #         raise Exception(f'{file} já foi importado!')\n",
    "        new = None\n",
    "        last = None\n",
    "        last = list(globals().keys())\n",
    "        %run {file}.ipynb\n",
    "        IImported.append(file)\n",
    "        new = list(globals().keys())\n",
    "        for key in new:\n",
    "            if key not in last:\n",
    "                ty = str(type(globals()[key]))\n",
    "                print(f'Importado {key}: {ty} de {file}')"
   ]
  }
 ],
 "metadata": {
  "kernelspec": {
   "display_name": "Python 3",
   "language": "python",
   "name": "python3"
  },
  "language_info": {
   "codemirror_mode": {
    "name": "ipython",
    "version": 3
   },
   "file_extension": ".py",
   "mimetype": "text/x-python",
   "name": "python",
   "nbconvert_exporter": "python",
   "pygments_lexer": "ipython3",
   "version": "3.8.2"
  }
 },
 "nbformat": 4,
 "nbformat_minor": 4
}
