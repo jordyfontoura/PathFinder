{
 "cells": [
  {
   "cell_type": "code",
   "execution_count": null,
   "metadata": {},
   "outputs": [],
   "source": [
    "class Caminho:\n",
    "    def __init__(self, data=None, proximo=None, anterior=None):\n",
    "        self.proximo=proximo\n",
    "        self.data=data\n",
    "        self.anterior=anterior\n",
    "    def __str__(self):\n",
    "        pos = self.inicio()\n",
    "        res = f'{str(pos.data)}'\n",
    "        while pos.proximo is not None:\n",
    "            pos = pos.proximo\n",
    "            res += f' \\u2192 {str(pos.data)}'\n",
    "        return res\n",
    "    \n",
    "    @staticmethod\n",
    "    def DaLista(*args):\n",
    "        root = Caminho(args[0])\n",
    "        if len(args) > 1:\n",
    "            root.adicionar(*args[1:])\n",
    "        return root\n",
    "\n",
    "    def adicionar(self, *args):\n",
    "        pos = self.fim()\n",
    "        for i in range(len(args)):\n",
    "            pos.proximo = Caminho(args[i], anterior=pos)\n",
    "            pos = pos.proximo\n",
    "            \n",
    "    def isfinal(self):\n",
    "        return self.proximo is None\n",
    "    \n",
    "    def isinicio(self):\n",
    "        return self.anterior is None\n",
    "    \n",
    "    def inicio(self):\n",
    "        pos = self\n",
    "        while pos.anterior is not None:\n",
    "            pos = pos.anterior\n",
    "        return pos\n",
    "    def setfim(self):\n",
    "        pos = self.fim()\n",
    "        while pos != self:\n",
    "            pos.proximo = None\n",
    "            pos = pos.anterior\n",
    "        self.proximo = None\n",
    "    def fim(self):\n",
    "        pos = self\n",
    "        while pos.proximo is not None:\n",
    "            pos = pos.proximo\n",
    "        return pos\n",
    "    def __len__(self):\n",
    "        n=0\n",
    "        pos = self.inicio()\n",
    "        while pos is not None:\n",
    "            pos = pos.proximo\n",
    "            n+=1\n",
    "        return n"
   ]
  }
 ],
 "metadata": {
  "kernelspec": {
   "display_name": "Python 3",
   "language": "python",
   "name": "python3"
  },
  "language_info": {
   "codemirror_mode": {
    "name": "ipython",
    "version": 3
   },
   "file_extension": ".py",
   "mimetype": "text/x-python",
   "name": "python",
   "nbconvert_exporter": "python",
   "pygments_lexer": "ipython3",
   "version": "3.8.2"
  }
 },
 "nbformat": 4,
 "nbformat_minor": 4
}
