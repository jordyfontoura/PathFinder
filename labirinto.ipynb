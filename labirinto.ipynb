{
 "cells": [
  {
   "cell_type": "code",
   "execution_count": 1,
   "metadata": {},
   "outputs": [],
   "source": [
    "from collection import Vector\n",
    "import matplotlib.pyplot as plt\n",
    "from numpy import random as rnd\n",
    "import numpy as np\n",
    "from time import sleep\n",
    "from PIL import Image\n",
    "from IPython.display import HTML, IFrame\n",
    "import matplotlib.image as mpimg"
   ]
  },
  {
   "cell_type": "code",
   "execution_count": 2,
   "metadata": {},
   "outputs": [],
   "source": [
    "%run core.ipynb"
   ]
  },
  {
   "cell_type": "code",
   "execution_count": 3,
   "metadata": {},
   "outputs": [],
   "source": [
    "## Imports"
   ]
  },
  {
   "cell_type": "code",
   "execution_count": 4,
   "metadata": {},
   "outputs": [
    {
     "name": "stdout",
     "output_type": "stream",
     "text": [
      "Importado Caminho: <class 'type'> de caminho\n"
     ]
    }
   ],
   "source": [
    "IImport('caminho')"
   ]
  },
  {
   "cell_type": "code",
   "execution_count": 5,
   "metadata": {},
   "outputs": [
    {
     "data": {
      "text/plain": [
       "{'N': [0, 1],\n",
       " 'S': [0, -1],\n",
       " 'L': [1, 0],\n",
       " 'O': [-1, 0],\n",
       " 'NO': [-1, 1],\n",
       " 'SO': [-1, -1],\n",
       " 'NE': [1, 1],\n",
       " 'SE': [1, -1]}"
      ]
     },
     "execution_count": 5,
     "metadata": {},
     "output_type": "execute_result"
    }
   ],
   "source": [
    "Cardeais = {\n",
    "    'N':Vector.up(),\n",
    "    'S':Vector.down(),\n",
    "    'L':Vector.right(),\n",
    "    'O':Vector.left()\n",
    "}\n",
    "Colaterais = {\n",
    "    'NO': Cardeais['N'] + Cardeais['O'],\n",
    "    'SO': Cardeais['S'] + Cardeais['O'],\n",
    "    'NE': Cardeais['N'] + Cardeais['L'],\n",
    "    'SE': Cardeais['S'] + Cardeais['L']\n",
    "}\n",
    "\n",
    "Direções = Cardeais.copy()\n",
    "Direções.update(Colaterais)\n",
    "Direções"
   ]
  },
  {
   "cell_type": "markdown",
   "metadata": {},
   "source": [
    "<img src=\"https://upload.wikimedia.org/wikipedia/commons/thumb/2/2a/Rosa_dos_Ventos_dsfdfdsdsaljdl.jpg/800px-Rosa_dos_Ventos_dsfdfdsdsaljdl.jpg\" alt=\"Pontos Cardeais\" width=\"100px\"/>"
   ]
  },
  {
   "cell_type": "code",
   "execution_count": 6,
   "metadata": {},
   "outputs": [],
   "source": [
    "class Mapa:\n",
    "    Tipos = {\n",
    "        'Rota': 0,\n",
    "        'Parede': 1\n",
    "    }\n",
    "    def __init__(self, size):\n",
    "        self.map = []\n",
    "        self.size = Vector(*size)\n",
    "        for cl in range(size[1]):\n",
    "            coluna = []\n",
    "            for ln in range(size[0]):\n",
    "                if hasattr(Mapa.Tipos['Rota'], 'copy'):\n",
    "                    coluna.append(Mapa.Tipos['Rota'].copy())\n",
    "                else:\n",
    "                    coluna.append(Mapa.Tipos['Rota'])\n",
    "            self.map.append(coluna)\n",
    "    \n",
    "    def toimg(self, colors: dict=None):\n",
    "        if colors is None:\n",
    "            colors={0:(0,0,0),1:(255,255,255)}\n",
    "        img = Image.new('RGB', self.size)\n",
    "        for x in range(self.size[0]):\n",
    "            for y in range(self.size[1]):\n",
    "                pos = (x, y)\n",
    "                img.putpixel(pos, colors[self[pos]])\n",
    "        return img\n",
    "    \n",
    "    def __getitem__(self, item):\n",
    "        return self.map[item[1]][item[0]]\n",
    "    \n",
    "    def __setitem__(self, item, value):\n",
    "        if value in Mapa.Tipos.keys():\n",
    "            self.map[item[1]][item[0]] = Mapa.Tipos[value]\n",
    "        else:\n",
    "            self.map[item[1]][item[0]] = value\n",
    "    \n",
    "    def dentro(self, posição):\n",
    "        if not(0 <= posição[0] < self.size[0]):\n",
    "            return False\n",
    "        if not(0 <= posição[1] < self.size[1]):\n",
    "            return False\n",
    "        return True\n",
    "    def show(self):\n",
    "        im = mz.toimg()\n",
    "        plt.imshow(im, interpolation='nearest')\n",
    "        \n",
    "    def detalhar(self):\n",
    "        im = mz.toimg()\n",
    "        lum_img = np.asarray(im)[:,:,0]\n",
    "        fig = plt.figure(figsize=(10,10))\n",
    "        a = fig.add_subplot(1, 2, 1)\n",
    "        imgplot = plt.imshow(lum_img)\n",
    "        # a.invert_yaxis()\n",
    "        a.set_title('Mapa de Calor')\n",
    "        # plt.colorbar(ticks=[0.1, 0.3, 0.5, 0.7], orientation='horizontal')\n",
    "        b = fig.add_subplot(1, 2, 2)\n",
    "        imgplot = plt.imshow(im)\n",
    "        # b.invert_yaxis()\n",
    "        b.set_title('Original')\n",
    "        # plt.colorbar()\n",
    "        plt.imshow(im, interpolation='nearest')\n",
    "        \n",
    "    def preencher(self, valor):\n",
    "        for x in range(self.size[0]):\n",
    "            for y in range(self.size[1]):\n",
    "                self[x,y]=valor\n",
    "    def __repr__(self):\n",
    "        tab = '  '\n",
    "        sep = '  '\n",
    "        res = ''\n",
    "        res += tab + 'y\\\\\\u0332x '\n",
    "        for i in range(self.size[0]):\n",
    "            res += f'\\u0332{str(i)}'\n",
    "            res += '__'[:len(str(i))]\n",
    "        res += '\\n'+ tab + ' |' + '\\n'\n",
    "        for lin in range(self.size[1]):\n",
    "            linha = tab\n",
    "            linha += str(lin) + '|'+tab\n",
    "            for col in range(self.size[0]):\n",
    "                linha+=str(self.map[lin][col])+sep\n",
    "            res += linha +'\\n'\n",
    "        return f'<Mapa:\\n{res}>'\n"
   ]
  },
  {
   "cell_type": "code",
   "execution_count": 7,
   "metadata": {},
   "outputs": [],
   "source": [
    "def gerar_labirinto(*tamanho, putvalor=None, possoir_func=None, logger=None):\n",
    "    if putvalor is None:\n",
    "        putvalor = Mapa.Tipos['Rota']\n",
    "    if possoir_func is None:\n",
    "        possoir_func = lambda x: x!=putvalor\n",
    "    maze = Mapa(tamanho)\n",
    "    maze.preencher('Parede')\n",
    "    rota = Caminho(Vector(0,0))\n",
    "    \n",
    "    def posso_ir(minha_posição, direção):\n",
    "        direita_relativa = Vector(direção[1], direção[0])\n",
    "        esquerda_relativa = -direita_relativa\n",
    "        frente_relativa = direção\n",
    "        testar = [\n",
    "            frente_relativa,\n",
    "            frente_relativa + direita_relativa,\n",
    "            frente_relativa + esquerda_relativa,\n",
    "            direita_relativa,\n",
    "            esquerda_relativa\n",
    "        ]\n",
    "        nova_posição = minha_posição+direção\n",
    "        \n",
    "        if not maze.dentro(nova_posição):\n",
    "            return False\n",
    "        if not possoir_func(maze[nova_posição]):\n",
    "            return False\n",
    "        \n",
    "        for direção_relativa in testar:\n",
    "            posição_teste = nova_posição+direção_relativa\n",
    "            if maze.dentro(posição_teste):\n",
    "                if not possoir_func(maze[posição_teste]):\n",
    "                    return False\n",
    "        # Aprovado!\n",
    "        return True\n",
    "    \n",
    "    def get_opções(minha_posição):\n",
    "        ops = []\n",
    "        for direção in Cardeais.values():\n",
    "            if posso_ir(minha_posição, direção):\n",
    "                ops.append(minha_posição + direção)\n",
    "        if logger is not None:\n",
    "            logger.append(('Olhei', ops))\n",
    "        return ops\n",
    "    \n",
    "    def escolher(ops):\n",
    "        return ops[rnd.randint(0, len(ops))]\n",
    "    \n",
    "    n =0\n",
    "    while True:\n",
    "        print(f'n={n}', end='\\r')\n",
    "        n+=1\n",
    "        maze[rota.data]=putvalor\n",
    "        if logger is not None:\n",
    "            logger.append(('Pintei', rota.data))\n",
    "        opções = get_opções(rota.data)\n",
    "#         print('Posição',rota.data)\n",
    "#         print('Opções:',opções)\n",
    "#         sleep(5)\n",
    "        if not opções:\n",
    "            \n",
    "            rota = rota.anterior\n",
    "            if rota is None:\n",
    "                # Fim\n",
    "                break\n",
    "            else:\n",
    "                if logger is not None:\n",
    "                    logger.append(('Voltei', [rota.proximo.data, rota.data]))\n",
    "                rota.setfim()\n",
    "                \n",
    "        else:\n",
    "            escolha = escolher(opções)\n",
    "            if logger is not None:\n",
    "                logger.append(('Escolhi', escolha.copy()))\n",
    "            rota.adicionar(escolha)\n",
    "            rota = rota.proximo\n",
    "                \n",
    "    return maze"
   ]
  },
  {
   "cell_type": "code",
   "execution_count": 8,
   "metadata": {},
   "outputs": [
    {
     "name": "stdout",
     "output_type": "stream",
     "text": [
      "n=910\r"
     ]
    }
   ],
   "source": [
    "logger = []\n",
    "mz = gerar_labirinto(30, 30,logger=logger)"
   ]
  },
  {
   "cell_type": "code",
   "execution_count": 9,
   "metadata": {},
   "outputs": [
    {
     "data": {
      "text/plain": [
       "2732"
      ]
     },
     "execution_count": 9,
     "metadata": {},
     "output_type": "execute_result"
    }
   ],
   "source": [
    "len(logger)"
   ]
  },
  {
   "cell_type": "code",
   "execution_count": 10,
   "metadata": {},
   "outputs": [],
   "source": [
    "def animação_geração(mz, lg):\n",
    "    img = Image.new('RGB', mz.size)\n",
    "    frames = [img]\n",
    "    colors = {\n",
    "        'Escolhi': (255,0,0),\n",
    "        'Voltei': (0,255,255),\n",
    "        'Pintei': (255,255,0),\n",
    "        'Olhei': (0,0,100),\n",
    "    }\n",
    "    for tipo, valor in lg:\n",
    "        frames.append(frames[-1].copy())\n",
    "        if tipo == 'Escolhi':\n",
    "            frames[-1].putpixel(valor, colors[tipo])\n",
    "        elif tipo == 'Pintei':\n",
    "            frames[-1].putpixel(valor, colors[tipo])\n",
    "        elif tipo == 'Voltei':\n",
    "            frames[-1].putpixel(valor[0], colors[tipo])\n",
    "        elif tipo == 'Olhei':\n",
    "            for v in valor:\n",
    "                frames[-1].putpixel(v, colors[tipo])\n",
    "    return frames    "
   ]
  },
  {
   "cell_type": "code",
   "execution_count": 11,
   "metadata": {},
   "outputs": [],
   "source": [
    "frames = animação_geração(mz, logger)"
   ]
  },
  {
   "cell_type": "code",
   "execution_count": 12,
   "metadata": {},
   "outputs": [],
   "source": [
    "frames[-1].save('animation.gif', format='GIF', append_images=frames[1:],\n",
    "         save_all=True, duration=20, loop=0)"
   ]
  },
  {
   "cell_type": "code",
   "execution_count": 22,
   "metadata": {},
   "outputs": [
    {
     "data": {
      "text/html": [
       "<style type=\"text/css\">.mz-gen{width: 350px;image-rendering: pixelated;}</style>"
      ],
      "text/plain": [
       "<IPython.core.display.HTML object>"
      ]
     },
     "execution_count": 22,
     "metadata": {},
     "output_type": "execute_result"
    }
   ],
   "source": [
    "HTML('<style>.mz-gen{width: 350px;image-rendering: pixelated;}</style>')"
   ]
  },
  {
   "cell_type": "code",
   "execution_count": 23,
   "metadata": {},
   "outputs": [
    {
     "data": {
      "text/html": [
       "<img class=\"mz-gen\" src=\"animation.gif\">"
      ],
      "text/plain": [
       "<IPython.core.display.HTML object>"
      ]
     },
     "execution_count": 23,
     "metadata": {},
     "output_type": "execute_result"
    }
   ],
   "source": [
    "HTML('<img class=\"mz-gen\" src=\"animation.gif\">')"
   ]
  },
  {
   "cell_type": "code",
   "execution_count": 14,
   "metadata": {},
   "outputs": [
    {
     "data": {
      "image/png": "[encoded data removed]",
      "text/plain": [
       "<Figure size 720x720 with 2 Axes>"
      ]
     },
     "metadata": {
      "needs_background": "light"
     },
     "output_type": "display_data"
    }
   ],
   "source": [
    "mz.detalhar()"
   ]
  },
  {
   "cell_type": "code",
   "execution_count": null,
   "metadata": {},
   "outputs": [],
   "source": []
  }
 ],
 "metadata": {
  "kernelspec": {
   "display_name": "Python 3",
   "language": "python",
   "name": "python3"
  },
  "language_info": {
   "codemirror_mode": {
    "name": "ipython",
    "version": 3
   },
   "file_extension": ".py",
   "mimetype": "text/x-python",
   "name": "python",
   "nbconvert_exporter": "python",
   "pygments_lexer": "ipython3",
   "version": "3.8.2"
  }
 },
 "nbformat": 4,
 "nbformat_minor": 4
}
